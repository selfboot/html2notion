{
 "cells": [
  {
   "attachments": {},
   "cell_type": "markdown",
   "metadata": {},
   "source": [
    "Initialize the API key and database ID of Notion."
   ]
  },
  {
   "cell_type": "code",
   "execution_count": null,
   "metadata": {},
   "outputs": [],
   "source": [
    "import json\n",
    "config = {}\n",
    "with open('../.config.json', \"r\") as f:\n",
    "    json_conf = json.load(f)\n",
    "    config.update(json_conf)\n",
    "\n",
    "notion_api_key = config['notion']['api_key']\n",
    "database_id = config['notion']['database_id']\n",
    "\n",
    "print(notion_api_key, database_id)"
   ]
  },
  {
   "attachments": {},
   "cell_type": "markdown",
   "metadata": {},
   "source": [
    "Ref\n",
    "https://developers.notion.com/reference/block#to-do"
   ]
  },
  {
   "cell_type": "code",
   "execution_count": null,
   "metadata": {},
   "outputs": [],
   "source": [
    "from notion_client import Client\n",
    "notion = Client(auth=notion_api_key)\n",
    "parent = {\"type\": \"database_id\", \"database_id\": database_id}\n",
    "\n",
    "properties = {\"Title\": {\"title\": [{\"text\": {\"content\": \"Page with divider\"}}]}}\n",
    "\n",
    "divider_block = [\n",
    "    {\n",
    "        \"type\": \"divider\",\n",
    "        \"divider\": {}\n",
    "    }\n",
    "]\n",
    "\n",
    "created_page = notion.pages.create(\n",
    "    parent=parent,\n",
    "    properties=properties,\n",
    "    children=divider_block\n",
    ")\n",
    "\n",
    "from typing import Dict, Any, cast\n",
    "created_page = cast(Dict[str, Any], created_page)\n",
    "print(f'page_id = {created_page[\"id\"]}')"
   ]
  }
 ],
 "metadata": {
  "kernelspec": {
   "display_name": "openai",
   "language": "python",
   "name": "python3"
  },
  "language_info": {
   "codemirror_mode": {
    "name": "ipython",
    "version": 3
   },
   "file_extension": ".py",
   "mimetype": "text/x-python",
   "name": "python",
   "nbconvert_exporter": "python",
   "pygments_lexer": "ipython3",
   "version": "3.11.2"
  },
  "orig_nbformat": 4
 },
 "nbformat": 4,
 "nbformat_minor": 2
}
