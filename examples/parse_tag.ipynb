{
 "cells": [
  {
   "cell_type": "code",
   "execution_count": null,
   "metadata": {},
   "outputs": [],
   "source": [
    "from bs4 import BeautifulSoup, NavigableString\n",
    "\n",
    "html = '''\n",
    "<div>\n",
    "    <div><br /></div>\n",
    "    <table>\n",
    "        <tbody>\n",
    "            <tr>\n",
    "                <td>\n",
    "                    <div>Row 1: <span style=\"color: rgb(0, 166, 125);\">You are a helpful assistant.</span> Remember it.</div>\n",
    "                </td>\n",
    "                <td>\n",
    "                    <div>Row 1: <a href=\"https://platform.openai.com/docs/guides/chat/introduction\">https://platform.openai.com/docs/guides/chat/introduction</a></div>\n",
    "                </td>\n",
    "                <td>\n",
    "                    <div>Row 1: <b><u>Import Content</u></b> Read more.</div>\n",
    "                </td>\n",
    "            </tr>\n",
    "            <tr>\n",
    "                <td><div>Row 2: </div></td>\n",
    "                <td><div>Row 2: </div></td>\n",
    "                <td><div>Row 2: </div></td>\n",
    "            </tr>\n",
    "        </tbody>\n",
    "    </table>\n",
    "    <div><br /></div>\n",
    "</div>\n",
    "'''\n",
    "\n",
    "def extract_text_and_parents(tag, parents=[]):\n",
    "    results = []\n",
    "    for child in tag.children:\n",
    "        if isinstance(child, NavigableString):\n",
    "            if child.strip():\n",
    "                text = child.strip()\n",
    "                parent_tags = [{\"name\": p.name, \"attrs\": p.attrs} for p in parents + [tag]]\n",
    "                results.append({\"text\": text, \"parent_tags\": parent_tags})\n",
    "        else:\n",
    "            results.extend(extract_text_and_parents(child, parents + [tag]))\n",
    "    return results\n",
    "\n",
    "soup = BeautifulSoup(html, 'html.parser')\n",
    "td_tags = soup.find_all('td')\n",
    "\n",
    "for i, td in enumerate(td_tags, 1):\n",
    "    text_with_parents = extract_text_and_parents(td)\n",
    "    print(f\"Text and parent tags in TD {i}:\")\n",
    "    for item in text_with_parents:\n",
    "        print(f\"Text: {item['text']}\")\n",
    "        print(\"Parent tags:\")\n",
    "        for parent in item[\"parent_tags\"]:\n",
    "            print(f\"  Tag: {parent['name']}, Attributes: {parent['attrs']}\")\n",
    "    print()\n"
   ]
  }
 ],
 "metadata": {
  "kernelspec": {
   "display_name": "notion",
   "language": "python",
   "name": "python3"
  },
  "language_info": {
   "codemirror_mode": {
    "name": "ipython",
    "version": 3
   },
   "file_extension": ".py",
   "mimetype": "text/x-python",
   "name": "python",
   "nbconvert_exporter": "python",
   "pygments_lexer": "ipython3",
   "version": "3.11.2"
  },
  "orig_nbformat": 4
 },
 "nbformat": 4,
 "nbformat_minor": 2
}
