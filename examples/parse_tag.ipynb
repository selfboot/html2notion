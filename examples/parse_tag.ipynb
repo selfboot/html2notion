{
 "cells": [
  {
   "cell_type": "code",
   "execution_count": null,
   "metadata": {},
   "outputs": [],
   "source": [
    "from bs4 import BeautifulSoup, NavigableString\n",
    "\n",
    "html = '''\n",
    "<div>\n",
    "    <div><br /></div>\n",
    "    <table>\n",
    "        <tbody>\n",
    "            <tr>\n",
    "                <td>\n",
    "                    <div>Row 1: <span style=\"color: rgb(0, 166, 125);\">You are a helpful assistant.</span> Remember it.</div>\n",
    "                </td>\n",
    "                <td>\n",
    "                    <div>Row 1: <a href=\"https://platform.openai.com/docs/guides/chat/introduction\">https://platform.openai.com/docs/guides/chat/introduction</a></div>\n",
    "                </td>\n",
    "                <td>\n",
    "                    <div>Row 1: <b><u>Import Content</u></b> Read more.</div>\n",
    "                </td>\n",
    "            </tr>\n",
    "            <tr>\n",
    "                <td><div>Row 2: </div></td>\n",
    "                <td><div>Row 2: </div></td>\n",
    "                <td><div>Row 2: </div></td>\n",
    "            </tr>\n",
    "        </tbody>\n",
    "    </table>\n",
    "    <div><br /></div>\n",
    "</div>\n",
    "'''\n",
    "\n",
    "def extract_text_and_parents(tag, parents=[]):\n",
    "    results = []\n",
    "    for child in tag.children:\n",
    "        if isinstance(child, NavigableString):\n",
    "            if child.strip():\n",
    "                text = child.strip()\n",
    "                parent_tags = [{\"name\": p.name, \"attrs\": p.attrs} for p in parents + [tag]]\n",
    "                results.append({\"text\": text, \"parent_tags\": parent_tags})\n",
    "        else:\n",
    "            results.extend(extract_text_and_parents(child, parents + [tag]))\n",
    "    return results\n",
    "\n",
    "soup = BeautifulSoup(html, 'html.parser')\n",
    "td_tags = soup.find_all('td')\n",
    "\n",
    "for i, td in enumerate(td_tags, 1):\n",
    "    text_with_parents = extract_text_and_parents(td)\n",
    "    print(f\"Text and parent tags in TD {i}:\")\n",
    "    for item in text_with_parents:\n",
    "        print(f\"Text: {item['text']}\")\n",
    "        print(\"Parent tags:\")\n",
    "        for parent in item[\"parent_tags\"]:\n",
    "            print(f\"  Tag: {parent['name']}, Attributes: {parent['attrs']}\")\n",
    "    print()\n"
   ]
  },
  {
   "cell_type": "code",
   "execution_count": 7,
   "metadata": {},
   "outputs": [
    {
     "name": "stdout",
     "output_type": "stream",
     "text": [
      "('We recommend completing our quickstart tutorial to get acquainted with key concepts through a ', [<div style=\"--en-blockquote:true;box-sizing: border-box; padding-left: 19px; padding-top: 6px; padding-bottom: 6px; border-left: 3px solid #b4c0cc; background-position: initial initial; background-repeat: initial initial; margin-top: 6px\"><div>We recommend completing our quickstart tutorial to get acquainted with key concepts through a <span style=\"color: #9B00FF;\">hands-on, interactive example</span>.</div><div><br/></div><div>First, you’ll need a prompt that makes it clear what you want. Let’s start with an instruction. <b>Submit this prompt</b> to generate your first completion.</div></div>, <div style=\"--en-blockquote:true;box-sizing: border-box; padding-left: 19px; padding-top: 6px; padding-bottom: 6px; border-left: 3px solid #b4c0cc; background-position: initial initial; background-repeat: initial initial; margin-top: 6px\"><div>We recommend completing our quickstart tutorial to get acquainted with key concepts through a <span style=\"color: #9B00FF;\">hands-on, interactive example</span>.</div><div><br/></div><div>First, you’ll need a prompt that makes it clear what you want. Let’s start with an instruction. <b>Submit this prompt</b> to generate your first completion.</div></div>, <div>We recommend completing our quickstart tutorial to get acquainted with key concepts through a <span style=\"color: #9B00FF;\">hands-on, interactive example</span>.</div>])\n",
      "('hands-on, interactive example', [<div style=\"--en-blockquote:true;box-sizing: border-box; padding-left: 19px; padding-top: 6px; padding-bottom: 6px; border-left: 3px solid #b4c0cc; background-position: initial initial; background-repeat: initial initial; margin-top: 6px\"><div>We recommend completing our quickstart tutorial to get acquainted with key concepts through a <span style=\"color: #9B00FF;\">hands-on, interactive example</span>.</div><div><br/></div><div>First, you’ll need a prompt that makes it clear what you want. Let’s start with an instruction. <b>Submit this prompt</b> to generate your first completion.</div></div>, <div style=\"--en-blockquote:true;box-sizing: border-box; padding-left: 19px; padding-top: 6px; padding-bottom: 6px; border-left: 3px solid #b4c0cc; background-position: initial initial; background-repeat: initial initial; margin-top: 6px\"><div>We recommend completing our quickstart tutorial to get acquainted with key concepts through a <span style=\"color: #9B00FF;\">hands-on, interactive example</span>.</div><div><br/></div><div>First, you’ll need a prompt that makes it clear what you want. Let’s start with an instruction. <b>Submit this prompt</b> to generate your first completion.</div></div>, <div>We recommend completing our quickstart tutorial to get acquainted with key concepts through a <span style=\"color: #9B00FF;\">hands-on, interactive example</span>.</div>, <span style=\"color: #9B00FF;\">hands-on, interactive example</span>])\n",
      "('.', [<div style=\"--en-blockquote:true;box-sizing: border-box; padding-left: 19px; padding-top: 6px; padding-bottom: 6px; border-left: 3px solid #b4c0cc; background-position: initial initial; background-repeat: initial initial; margin-top: 6px\"><div>We recommend completing our quickstart tutorial to get acquainted with key concepts through a <span style=\"color: #9B00FF;\">hands-on, interactive example</span>.</div><div><br/></div><div>First, you’ll need a prompt that makes it clear what you want. Let’s start with an instruction. <b>Submit this prompt</b> to generate your first completion.</div></div>, <div style=\"--en-blockquote:true;box-sizing: border-box; padding-left: 19px; padding-top: 6px; padding-bottom: 6px; border-left: 3px solid #b4c0cc; background-position: initial initial; background-repeat: initial initial; margin-top: 6px\"><div>We recommend completing our quickstart tutorial to get acquainted with key concepts through a <span style=\"color: #9B00FF;\">hands-on, interactive example</span>.</div><div><br/></div><div>First, you’ll need a prompt that makes it clear what you want. Let’s start with an instruction. <b>Submit this prompt</b> to generate your first completion.</div></div>, <div>We recommend completing our quickstart tutorial to get acquainted with key concepts through a <span style=\"color: #9B00FF;\">hands-on, interactive example</span>.</div>])\n",
      "('<br>', [<div style=\"--en-blockquote:true;box-sizing: border-box; padding-left: 19px; padding-top: 6px; padding-bottom: 6px; border-left: 3px solid #b4c0cc; background-position: initial initial; background-repeat: initial initial; margin-top: 6px\"><div>We recommend completing our quickstart tutorial to get acquainted with key concepts through a <span style=\"color: #9B00FF;\">hands-on, interactive example</span>.</div><div><br/></div><div>First, you’ll need a prompt that makes it clear what you want. Let’s start with an instruction. <b>Submit this prompt</b> to generate your first completion.</div></div>, <div style=\"--en-blockquote:true;box-sizing: border-box; padding-left: 19px; padding-top: 6px; padding-bottom: 6px; border-left: 3px solid #b4c0cc; background-position: initial initial; background-repeat: initial initial; margin-top: 6px\"><div>We recommend completing our quickstart tutorial to get acquainted with key concepts through a <span style=\"color: #9B00FF;\">hands-on, interactive example</span>.</div><div><br/></div><div>First, you’ll need a prompt that makes it clear what you want. Let’s start with an instruction. <b>Submit this prompt</b> to generate your first completion.</div></div>, <div><br/></div>])\n",
      "('First, you’ll need a prompt that makes it clear what you want. Let’s start with an instruction.\\xa0', [<div style=\"--en-blockquote:true;box-sizing: border-box; padding-left: 19px; padding-top: 6px; padding-bottom: 6px; border-left: 3px solid #b4c0cc; background-position: initial initial; background-repeat: initial initial; margin-top: 6px\"><div>We recommend completing our quickstart tutorial to get acquainted with key concepts through a <span style=\"color: #9B00FF;\">hands-on, interactive example</span>.</div><div><br/></div><div>First, you’ll need a prompt that makes it clear what you want. Let’s start with an instruction. <b>Submit this prompt</b> to generate your first completion.</div></div>, <div style=\"--en-blockquote:true;box-sizing: border-box; padding-left: 19px; padding-top: 6px; padding-bottom: 6px; border-left: 3px solid #b4c0cc; background-position: initial initial; background-repeat: initial initial; margin-top: 6px\"><div>We recommend completing our quickstart tutorial to get acquainted with key concepts through a <span style=\"color: #9B00FF;\">hands-on, interactive example</span>.</div><div><br/></div><div>First, you’ll need a prompt that makes it clear what you want. Let’s start with an instruction. <b>Submit this prompt</b> to generate your first completion.</div></div>, <div>First, you’ll need a prompt that makes it clear what you want. Let’s start with an instruction. <b>Submit this prompt</b> to generate your first completion.</div>])\n",
      "('Submit this prompt', [<div style=\"--en-blockquote:true;box-sizing: border-box; padding-left: 19px; padding-top: 6px; padding-bottom: 6px; border-left: 3px solid #b4c0cc; background-position: initial initial; background-repeat: initial initial; margin-top: 6px\"><div>We recommend completing our quickstart tutorial to get acquainted with key concepts through a <span style=\"color: #9B00FF;\">hands-on, interactive example</span>.</div><div><br/></div><div>First, you’ll need a prompt that makes it clear what you want. Let’s start with an instruction. <b>Submit this prompt</b> to generate your first completion.</div></div>, <div style=\"--en-blockquote:true;box-sizing: border-box; padding-left: 19px; padding-top: 6px; padding-bottom: 6px; border-left: 3px solid #b4c0cc; background-position: initial initial; background-repeat: initial initial; margin-top: 6px\"><div>We recommend completing our quickstart tutorial to get acquainted with key concepts through a <span style=\"color: #9B00FF;\">hands-on, interactive example</span>.</div><div><br/></div><div>First, you’ll need a prompt that makes it clear what you want. Let’s start with an instruction. <b>Submit this prompt</b> to generate your first completion.</div></div>, <div>First, you’ll need a prompt that makes it clear what you want. Let’s start with an instruction. <b>Submit this prompt</b> to generate your first completion.</div>, <b>Submit this prompt</b>])\n",
      "('\\xa0to generate your first completion.', [<div style=\"--en-blockquote:true;box-sizing: border-box; padding-left: 19px; padding-top: 6px; padding-bottom: 6px; border-left: 3px solid #b4c0cc; background-position: initial initial; background-repeat: initial initial; margin-top: 6px\"><div>We recommend completing our quickstart tutorial to get acquainted with key concepts through a <span style=\"color: #9B00FF;\">hands-on, interactive example</span>.</div><div><br/></div><div>First, you’ll need a prompt that makes it clear what you want. Let’s start with an instruction. <b>Submit this prompt</b> to generate your first completion.</div></div>, <div style=\"--en-blockquote:true;box-sizing: border-box; padding-left: 19px; padding-top: 6px; padding-bottom: 6px; border-left: 3px solid #b4c0cc; background-position: initial initial; background-repeat: initial initial; margin-top: 6px\"><div>We recommend completing our quickstart tutorial to get acquainted with key concepts through a <span style=\"color: #9B00FF;\">hands-on, interactive example</span>.</div><div><br/></div><div>First, you’ll need a prompt that makes it clear what you want. Let’s start with an instruction. <b>Submit this prompt</b> to generate your first completion.</div></div>, <div>First, you’ll need a prompt that makes it clear what you want. Let’s start with an instruction. <b>Submit this prompt</b> to generate your first completion.</div>])\n"
     ]
    }
   ],
   "source": [
    "# br in div\n",
    "from bs4 import NavigableString, Tag, PageElement, BeautifulSoup\n",
    "\n",
    "def extract_text_and_parents(tag: PageElement, parents=[]):\n",
    "    results = []\n",
    "    # Filter empty content\n",
    "    if isinstance(tag, NavigableString) and tag.text:\n",
    "        results.append((tag.text, parents))\n",
    "        return results\n",
    "    elif isinstance(tag, Tag):\n",
    "        for child in tag.children:\n",
    "            if isinstance(child, NavigableString):\n",
    "                if child.strip():\n",
    "                    text = child.text\n",
    "                    parent_tags = [p for p in parents + [tag]]\n",
    "                    results.append((text, parent_tags))\n",
    "            elif isinstance(child, Tag) and child.name == 'br':  \n",
    "                results.append(('<br>', parents + [tag]))\n",
    "            else:\n",
    "                results.extend(extract_text_and_parents(child, parents + [tag]))\n",
    "    return results\n",
    "\n",
    "html_content = \"\"\"<div>su<div><br/></div>dd if=/sdcard/twrp.img of=/dev/block/platform/msm_sdcc.1/by-name/recovery<div><br/></div></div>\"\"\"\n",
    "html_content = \"\"\"<div style=\"--en-blockquote:true;box-sizing: border-box; padding-left: 19px; padding-top: 6px; padding-bottom: 6px; border-left: 3px solid #b4c0cc; background-position: initial initial; background-repeat: initial initial; margin-top: 6px\"><div>We recommend completing our quickstart tutorial to get acquainted with key concepts through a <span style=\"color: #9B00FF;\">hands-on, interactive example</span>.</div><div><br/></div><div>First, you’ll need a prompt that makes it clear what you want. Let’s start with an instruction. <b>Submit this prompt</b> to generate your first completion.</div></div>\"\"\"\n",
    "soup = BeautifulSoup(html_content, 'html.parser')\n",
    "res = extract_text_and_parents(soup)\n",
    "\n",
    "for i in res:\n",
    "    print(i)"
   ]
  }
 ],
 "metadata": {
  "kernelspec": {
   "display_name": "notion",
   "language": "python",
   "name": "python3"
  },
  "language_info": {
   "codemirror_mode": {
    "name": "ipython",
    "version": 3
   },
   "file_extension": ".py",
   "mimetype": "text/x-python",
   "name": "python",
   "nbconvert_exporter": "python",
   "pygments_lexer": "ipython3",
   "version": "3.11.0"
  },
  "orig_nbformat": 4
 },
 "nbformat": 4,
 "nbformat_minor": 2
}
