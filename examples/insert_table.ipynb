{
 "cells": [
  {
   "attachments": {},
   "cell_type": "markdown",
   "metadata": {},
   "source": [
    "Initialize the API key and database ID of Notion."
   ]
  },
  {
   "cell_type": "code",
   "execution_count": null,
   "metadata": {},
   "outputs": [],
   "source": [
    "import json\n",
    "config = {}\n",
    "with open('../.config.json', \"r\") as f:\n",
    "    json_conf = json.load(f)\n",
    "    config.update(json_conf)\n",
    "\n",
    "notion_api_key = config['notion']['api_key']\n",
    "database_id = config['notion']['database_id']\n",
    "\n",
    "print(notion_api_key, database_id)"
   ]
  },
  {
   "attachments": {},
   "cell_type": "markdown",
   "metadata": {},
   "source": [
    "Create a table, note that when creating it, you can directly insert table rows. However, when reading it, you actually need to first obtain the blockid of the table in the page and then retrieve its children blocks.\n",
    "\n",
    "https://developers.notion.com/reference/block#table\n",
    "https://developers.notion.com/changelog/simple-table-support"
   ]
  },
  {
   "cell_type": "code",
   "execution_count": null,
   "metadata": {},
   "outputs": [],
   "source": [
    "from notion_client import Client\n",
    "notion = Client(auth=notion_api_key)\n",
    "parent = {\"type\": \"database_id\", \"database_id\": database_id}\n",
    "\n",
    "properties = {\"Title\": {\"title\": [{\"text\": {\"content\": \"Page with table\"}}]}}\n",
    "\n",
    "one_row = {\n",
    "    \"type\": \"table_row\",\n",
    "    \"table_row\": {\n",
    "        \"cells\": [\n",
    "            [\n",
    "                {\n",
    "                    \"type\": \"text\",\n",
    "                    \"text\": {\n",
    "                        \"content\": \"column 1 content\",\n",
    "                    },\n",
    "                    \"plain_text\": \"column 1 content\",\n",
    "                }\n",
    "            ],\n",
    "            [\n",
    "                {\n",
    "                    \"type\": \"text\",\n",
    "                    \"text\": {\n",
    "                        \"content\": \"column 2 content\",\n",
    "\n",
    "                    },\n",
    "                    \"plain_text\": \"column 2 content\",\n",
    "                }\n",
    "            ]\n",
    "        ]\n",
    "    }\n",
    "}\n",
    "children = [\n",
    "    {\n",
    "        \"table\": {\n",
    "            \"has_row_header\": False,\n",
    "            \"has_column_header\": False,\n",
    "            \"table_width\": 2,\n",
    "            \"children\": [one_row],\n",
    "        }\n",
    "    }\n",
    "]\n",
    "\n",
    "created_page = notion.pages.create(\n",
    "    parent=parent,\n",
    "    properties=properties,\n",
    "    children=children\n",
    ")\n",
    "\n",
    "from typing import Dict, Any, cast\n",
    "created_page = cast(Dict[str, Any], created_page)\n",
    "print(f'page_id = {created_page[\"id\"]}')"
   ]
  }
 ],
 "metadata": {
  "kernelspec": {
   "display_name": "openai",
   "language": "python",
   "name": "python3"
  },
  "language_info": {
   "name": "python",
   "version": "3.11.2"
  },
  "orig_nbformat": 4
 },
 "nbformat": 4,
 "nbformat_minor": 2
}
