{
 "cells": [
  {
   "attachments": {},
   "cell_type": "markdown",
   "metadata": {},
   "source": [
    "Initialize the API key and database ID of Notion."
   ]
  },
  {
   "cell_type": "code",
   "execution_count": null,
   "metadata": {},
   "outputs": [],
   "source": [
    "import json\n",
    "config = {}\n",
    "with open('../.config.json', \"r\") as f:\n",
    "    json_conf = json.load(f)\n",
    "    config.update(json_conf)\n",
    "\n",
    "notion_api_key = config['notion']['api_key']\n",
    "database_id = config['notion']['database_id']\n",
    "\n",
    "print(notion_api_key, database_id)"
   ]
  },
  {
   "attachments": {},
   "cell_type": "markdown",
   "metadata": {},
   "source": [
    "Limits for property values\n",
    "Rich text object\ttext.content\t2000 characters\n",
    "\n",
    "https://developers.notion.com/reference/request-limits\n",
    "https://developers.notion.com/reference/rich-textupport"
   ]
  },
  {
   "cell_type": "code",
   "execution_count": null,
   "metadata": {},
   "outputs": [],
   "source": [
    "from notion_client import Client\n",
    "notion = Client(auth=notion_api_key)\n",
    "parent = {\"type\": \"database_id\", \"database_id\": database_id}\n",
    "properties = {\"Title\": {\"title\": [{\"text\": {\"content\": \"Page with multi text\"}}]}}\n",
    "text_content = \"Some words\" * 200 + \"Any\"\n",
    "text_block = {\n",
    "    \"type\": \"text\",\n",
    "    \"text\": {\n",
    "        \"content\": text_content,\n",
    "    },\n",
    "    \"annotations\": {\n",
    "        \"bold\": False,\n",
    "        \"italic\": False,\n",
    "        \"strikethrough\": False,\n",
    "        \"underline\": False,\n",
    "        \"code\": False,\n",
    "        \"color\": \"default\"\n",
    "    },\n",
    "    \"plain_text\": text_content,\n",
    "    \"href\": None\n",
    "}\n",
    "\n",
    "children = [{\n",
    "    \"object\": \"block\",\n",
    "    \"type\": \"paragraph\",\n",
    "    \"paragraph\": {\n",
    "        \"rich_text\": [text_block]\n",
    "    }\n",
    "}]\n",
    "\n",
    "created_page = notion.pages.create(\n",
    "    parent=parent,\n",
    "    properties=properties,\n",
    "    children=children\n",
    ")\n",
    "\n",
    "from typing import Dict, Any, cast\n",
    "created_page = cast(Dict[str, Any], created_page)\n",
    "print(f'page_id = {created_page[\"id\"]}')"
   ]
  },
  {
   "cell_type": "code",
   "execution_count": null,
   "metadata": {},
   "outputs": [],
   "source": [
    "text_content = \"Some words\" * 200 + \"Any\"\n",
    "from html2notion.translate.html2json_base import Html2JsonBase\n",
    "\n",
    "text_obj = Html2JsonBase.generate_text(plain_text=text_content)\n",
    "children_2 = [{\n",
    "    \"object\": \"block\",\n",
    "    \"type\": \"paragraph\",\n",
    "    \"paragraph\": {\n",
    "        \"rich_text\": [text_obj]\n",
    "    }\n",
    "}]\n",
    "\n",
    "created_page_2 = notion.pages.create(\n",
    "    parent=parent,\n",
    "    properties=properties,\n",
    "    children=children_2\n",
    ")\n",
    "\n",
    "from typing import Dict, Any, cast\n",
    "created_page_2 = cast(Dict[str, Any], created_page)\n",
    "print(f'page_id = {created_page_2[\"id\"]}')"
   ]
  }
 ],
 "metadata": {
  "kernelspec": {
   "display_name": "openai",
   "language": "python",
   "name": "python3"
  },
  "language_info": {
   "codemirror_mode": {
    "name": "ipython",
    "version": 3
   },
   "file_extension": ".py",
   "mimetype": "text/x-python",
   "name": "python",
   "nbconvert_exporter": "python",
   "pygments_lexer": "ipython3",
   "version": "3.11.0"
  },
  "orig_nbformat": 4
 },
 "nbformat": 4,
 "nbformat_minor": 2
}
